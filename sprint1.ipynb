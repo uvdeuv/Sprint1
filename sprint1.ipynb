{
 "cells": [
  {
   "cell_type": "markdown",
   "id": "10bea3f0",
   "metadata": {},
   "source": [
    "# Exercici 1\n",
    "A partir dels documents adjunts (estructura i dades), crea una base de dades amb MySQL. Mostra les característiques principals de l'esquema creat i explica les diferents taules i variables que hi ha.\n",
    "\n",
    "\n",
    "# Exercici 2\n",
    "Realitza la següent consulta sobre la base de dades acabada de crear: \n",
    "\n",
    "Has d'obtenir el nom, el país i la data de naixement d'aquelles persones per les quals no consti una data de mort i ordenar les dades de la persona més vella a la persona més jove.\n",
    "\n",
    "\n",
    "# Exercici 3\n",
    "Realitza la següent consulta sobre la base de dades acabada de crear: \n",
    "\n",
    "Has d'obtenir el nom del gènere i el nombre total de pel·lícules d'aquest gènere i ordenar-ho per ordre descendent de nombre total de pel·lícules.  \n",
    "\n",
    "\n",
    "# Exercici 4\n",
    "\n",
    "Realitza la següent consulta sobre la base de dades acabada de crear: \n",
    "\n",
    "Has d'obtenir, per a cada persona, el seu nom i el nombre màxim de rols diferents que ha tingut en una mateixa pel·lícula. \n",
    "\n",
    "Posteriorment, mostra únicament aquelles persones que hagin assumit més d'un rol en una mateixa pel·lícula.\n",
    "\n",
    "# Exercici 5\n",
    "Realitza la següent operació sobre la base de dades acabada de crear: \n",
    "\n",
    "Has de crear un nou gènere anomenat \"Documental\" el qual tingui com a identificador el nombre 69.\n",
    "\n",
    "\n",
    "\n",
    "# Exercici 6\n",
    "Fes la següent operació sobre la base de dades acabada de crear:  \n",
    "\n",
    "Elimina la pel·lícula \"La Gran Familia Española\" de la base de dades.\n",
    "\n",
    "\n",
    "# Exercici 7\n",
    "\n",
    "Realitza la següent operació sobre la base de dades acabada de crear: \n",
    "\n",
    "Canvia el gènere de la pel·lícula \"Ocho apellidos catalanes\" perquè consti com a comèdia i no com a romàntica.\n",
    "\n"
   ]
  },
  {
   "cell_type": "code",
   "execution_count": null,
   "id": "e74894dd",
   "metadata": {},
   "outputs": [],
   "source": []
  },
  {
   "cell_type": "code",
   "execution_count": 2,
   "id": "d41aa65f",
   "metadata": {},
   "outputs": [
    {
     "name": "stdout",
     "output_type": "stream",
     "text": [
      "<mysql.connector.connection.MySQLConnection object at 0x0000020CB0D080D0>\n"
     ]
    }
   ],
   "source": [
    "# connectar-se a mysql\n",
    "import mysql.connector as sql\n",
    "\n",
    "mydb =sql.connect(\n",
    "    host=\"localhost\",\n",
    "    user=\"root\",\n",
    "    password=\"ha741doop\",\n",
    "    use_pure=True\n",
    ")\n",
    "\n",
    "print(mydb)\n",
    "\n"
   ]
  },
  {
   "cell_type": "code",
   "execution_count": 3,
   "id": "8d10655b",
   "metadata": {},
   "outputs": [],
   "source": [
    "#crear BDD \n",
    "mycursor = mydb.cursor()\n",
    "\n",
    "mycursor.execute(\"CREATE DATABASE IF NOT EXISTS SGAE_Practica\")\n"
   ]
  },
  {
   "cell_type": "code",
   "execution_count": 4,
   "id": "d64d0c22",
   "metadata": {},
   "outputs": [],
   "source": [
    "#mycursor.execute(\"SET TRANSACTION READ WRITE\")\n",
    "mycursor.execute(\"BEGIN WORK\")\n",
    "#següent línia dona error 1193 (HY000): Unknown system variable 'datestyle'\n",
    "#mycursor.execute(\"SET datestyle = YMD\")\n",
    "mycursor.execute(\"CREATE SCHEMA IF NOT EXISTS movies\")"
   ]
  },
  {
   "cell_type": "code",
   "execution_count": 5,
   "id": "c4c951b8",
   "metadata": {},
   "outputs": [],
   "source": [
    "#crear tablas (a lo bruto- se puede hacer sin que esten en una línia?)\n",
    "#crear tabla tb_genre\n",
    "mycursor.execute(\"CREATE TABLE IF NOT EXISTS movies.tb_genre (genre_id         INTEGER NOT NULL , genre_name       CHARACTER VARYING(40) NOT NULL ,created_by_user  CHARACTER VARYING(10) NOT NULL DEFAULT 'OS_SGAD' ,created_date     DATE ,updated_date     DATE ,CONSTRAINT pk_genre PRIMARY KEY (genre_id))\")\n",
    "#crear tabla tb_movie\n",
    "mycursor.execute(\"CREATE TABLE IF NOT EXISTS movies.tb_movie (movie_id         INTEGER NOT NULL , movie_title      CHARACTER VARYING(100) NOT NULL , movie_date       DATE ,movie_format     CHARACTER VARYING(50) , movie_genre_id   INTEGER , created_by_user  CHARACTER VARYING(10) NOT NULL DEFAULT 'OS_SGAD' , created_date     DATE , updated_date     DATE , CONSTRAINT pk_movie PRIMARY KEY (movie_id) , CONSTRAINT fk_movie_genre FOREIGN KEY (movie_genre_id) REFERENCES movies.tb_genre (genre_id))\")\n",
    "#crear tabla tb_role\n",
    "mycursor.execute(\"CREATE TABLE IF NOT EXISTS movies.tb_role (role_id          INTEGER NOT NULL ,role_name        CHARACTER VARYING(60) NOT NULL ,created_by_user  CHARACTER VARYING(10) NOT NULL DEFAULT 'OS_SGAD' ,created_date     DATE ,updated_date     DATE ,CONSTRAINT pk_role PRIMARY KEY (role_id))\")\n",
    "#crear tabla tb_person\n",
    "mycursor.execute(\"CREATE TABLE IF NOT EXISTS movies.tb_person (person_id        INTEGER NOT NULL ,person_name      CHARACTER VARYING(100) NOT NULL ,person_country   CHARACTER VARYING(40) , person_dob       DATE NOT NULL ,person_dod       DATE ,person_parent_id INTEGER ,created_by_user  CHARACTER VARYING(10) NOT NULL DEFAULT 'OS_SGAD' ,created_date     DATE ,updated_date     DATE ,CONSTRAINT pk_person PRIMARY KEY (person_id) ,CONSTRAINT fk_person_parent FOREIGN KEY (person_parent_id) REFERENCES movies.tb_person (person_id))\")\n",
    "#crear tabla tb_movie_person\n",
    "mycursor.execute(\"CREATE TABLE IF NOT EXISTS movies.tb_movie_person (movie_id         INTEGER NOT NULL ,person_id        INTEGER NOT NULL ,role_id          INTEGER NOT NULL ,movie_award_ind  CHAR(1) NOT NULL ,created_by_user  CHARACTER VARYING(10) NOT NULL DEFAULT 'OS_SGAD' ,created_date     DATE ,updated_date     DATE ,CONSTRAINT pk_movper PRIMARY KEY (movie_id, person_id, role_id) ,CONSTRAINT fk_movper_movie FOREIGN KEY (movie_id) REFERENCES movies.tb_movie (movie_id) ,CONSTRAINT fk_movper_person FOREIGN KEY (person_id) REFERENCES movies.tb_person (person_id) ,CONSTRAINT fk_movper_role FOREIGN KEY (role_id) REFERENCES movies.tb_role (role_id))\")\n"
   ]
  },
  {
   "cell_type": "code",
   "execution_count": 25,
   "id": "c15453ec",
   "metadata": {},
   "outputs": [],
   "source": [
    "#contenido creado a través de mySQL command line"
   ]
  },
  {
   "cell_type": "code",
   "execution_count": 16,
   "id": "69e73c84",
   "metadata": {},
   "outputs": [
    {
     "ename": "SyntaxError",
     "evalue": "invalid syntax (2033639265.py, line 2)",
     "output_type": "error",
     "traceback": [
      "\u001b[1;36m  Input \u001b[1;32mIn [16]\u001b[1;36m\u001b[0m\n\u001b[1;33m    SHOW TABLES\u001b[0m\n\u001b[1;37m         ^\u001b[0m\n\u001b[1;31mSyntaxError\u001b[0m\u001b[1;31m:\u001b[0m invalid syntax\n"
     ]
    }
   ],
   "source": [
    "%sql\n",
    "SHOW TABLES"
   ]
  },
  {
   "cell_type": "markdown",
   "id": "6fc7c953",
   "metadata": {},
   "source": [
    "![](mysqlwbex1.PNG)\n",
    "![](mysqlcmdex1.PNG)\n",
    "![](mysqlcmdex1_2.PNG)\n",
    "![](mysqlcmdex1_3.PNG)"
   ]
  },
  {
   "cell_type": "markdown",
   "id": "94b63ae4",
   "metadata": {},
   "source": [
    "![](mysqlcmd4ex2.PNG)\n",
    "![](mysqlcmd4ex3.PNG)\n",
    "![](mysqlcmd4ex4.PNG)\n",
    "![](mysqlcmd4ex5.PNG)\n",
    "![](mysqlcmd4ex5_2.PNG)\n",
    "![](mysqlcmd4ex6.PNG)\n",
    "![](mysqlcmd4ex7.PNG)"
   ]
  }
 ],
 "metadata": {
  "kernelspec": {
   "display_name": "Python 3 (ipykernel)",
   "language": "python",
   "name": "python3"
  },
  "language_info": {
   "codemirror_mode": {
    "name": "ipython",
    "version": 3
   },
   "file_extension": ".py",
   "mimetype": "text/x-python",
   "name": "python",
   "nbconvert_exporter": "python",
   "pygments_lexer": "ipython3",
   "version": "3.9.12"
  }
 },
 "nbformat": 4,
 "nbformat_minor": 5
}
